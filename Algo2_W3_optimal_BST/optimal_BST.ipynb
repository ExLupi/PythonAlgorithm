{
 "metadata": {
  "name": "optimal_BST"
 },
 "nbformat": 3,
 "nbformat_minor": 0,
 "worksheets": [
  {
   "cells": [
    {
     "cell_type": "code",
     "collapsed": false,
     "input": [
      "import numpy as np\n",
      "freq = [0.04, 0.05, 0.08, 0.1, 0.1, 0.23, 0.4]\n"
     ],
     "language": "python",
     "metadata": {},
     "outputs": [],
     "prompt_number": 38
    },
    {
     "cell_type": "code",
     "collapsed": false,
     "input": [
      "nd = np.size(freq)\n",
      "A = np.zeros([nd, nd])"
     ],
     "language": "python",
     "metadata": {},
     "outputs": [],
     "prompt_number": 39
    },
    {
     "cell_type": "code",
     "collapsed": false,
     "input": [
      "# Iinitialization for s =0\n",
      "# I should consider using a list for the min\n",
      "for i in xrange(nd):\n",
      "    A[i,i] = freq[i]\n",
      "print A "
     ],
     "language": "python",
     "metadata": {},
     "outputs": [
      {
       "output_type": "stream",
       "stream": "stdout",
       "text": [
        "[[ 0.04  0.    0.    0.    0.    0.    0.  ]\n",
        " [ 0.    0.05  0.    0.    0.    0.    0.  ]\n",
        " [ 0.    0.    0.08  0.    0.    0.    0.  ]\n",
        " [ 0.    0.    0.    0.1   0.    0.    0.  ]\n",
        " [ 0.    0.    0.    0.    0.1   0.    0.  ]\n",
        " [ 0.    0.    0.    0.    0.    0.23  0.  ]\n",
        " [ 0.    0.    0.    0.    0.    0.    0.4 ]]\n"
       ]
      }
     ],
     "prompt_number": 40
    },
    {
     "cell_type": "code",
     "collapsed": false,
     "input": [
      "s = 1\n",
      "for i in xrange(nd-s):\n",
      "    A[i,i+s] = np.sum(freq[i:i+s+1])+ np.min(A[i,i], A[i+s,i+s])\n",
      "print A\n",
      "#for s in xrange(1:nd):\n",
      "#    for i in xrange(nd-s):\n",
      "#        A[i, i+s]= np.sum(freq[i:i+s+1]) \n",
      "#        for j in \n",
      "#np.sum(freq[0:2])"
     ],
     "language": "python",
     "metadata": {},
     "outputs": [
      {
       "output_type": "stream",
       "stream": "stdout",
       "text": [
        "[[ 0.04  0.13  0.    0.    0.    0.    0.  ]\n",
        " [ 0.    0.05  0.18  0.    0.    0.    0.  ]\n",
        " [ 0.    0.    0.08  0.26  0.    0.    0.  ]\n",
        " [ 0.    0.    0.    0.1   0.3   0.    0.  ]\n",
        " [ 0.    0.    0.    0.    0.1   0.43  0.  ]\n",
        " [ 0.    0.    0.    0.    0.    0.23  0.86]\n",
        " [ 0.    0.    0.    0.    0.    0.    0.4 ]]\n"
       ]
      }
     ],
     "prompt_number": 41
    },
    {
     "cell_type": "code",
     "collapsed": false,
     "input": [
      "s =2  \n",
      "for i in xrange(nd-s):\n",
      "    A[i,i+s] = np.sum(freq[i:i+s+1]) + min(A[i+1,i+2],A[i,i]+A[i+2,i+s],A[i,i+1])\n",
      "print A"
     ],
     "language": "python",
     "metadata": {},
     "outputs": [
      {
       "output_type": "stream",
       "stream": "stdout",
       "text": [
        "[[ 0.04  0.13  0.29  0.    0.    0.    0.  ]\n",
        " [ 0.    0.05  0.18  0.38  0.    0.    0.  ]\n",
        " [ 0.    0.    0.08  0.26  0.46  0.    0.  ]\n",
        " [ 0.    0.    0.    0.1   0.3   0.73  0.  ]\n",
        " [ 0.    0.    0.    0.    0.1   0.43  1.16]\n",
        " [ 0.    0.    0.    0.    0.    0.23  0.86]\n",
        " [ 0.    0.    0.    0.    0.    0.    0.4 ]]\n"
       ]
      }
     ],
     "prompt_number": 42
    },
    {
     "cell_type": "code",
     "collapsed": false,
     "input": [
      "s = 3 \n",
      "for i in xrange(nd-s):\n",
      "    A[i,i+s] = np.sum(freq[i:i+s+1]) + min(A[i+1,i+s],A[i,i]+A[i+2,i+s],A[i,i+1]+A[i+3,i+s],A[i,i+2])\n",
      "print A"
     ],
     "language": "python",
     "metadata": {},
     "outputs": [
      {
       "output_type": "stream",
       "stream": "stdout",
       "text": [
        "[[ 0.04  0.13  0.29  0.5   0.    0.    0.  ]\n",
        " [ 0.    0.05  0.18  0.38  0.61  0.    0.  ]\n",
        " [ 0.    0.    0.08  0.26  0.46  0.97  0.  ]\n",
        " [ 0.    0.    0.    0.1   0.3   0.73  1.53]\n",
        " [ 0.    0.    0.    0.    0.1   0.43  1.16]\n",
        " [ 0.    0.    0.    0.    0.    0.23  0.86]\n",
        " [ 0.    0.    0.    0.    0.    0.    0.4 ]]\n"
       ]
      }
     ],
     "prompt_number": 43
    },
    {
     "cell_type": "code",
     "collapsed": false,
     "input": [
      "s = 4\n",
      "for i in xrange(nd-s):\n",
      "    A[i,i+s] = np.sum(freq[i:i+s+1]) + min(A[i+1,i+s],A[i,i]+A[i+2,i+s],A[i,i+1]+A[i+3,i+s],A[i,i+2]+A[i+4,i+s], A[i,i+3])\n",
      "print A"
     ],
     "language": "python",
     "metadata": {},
     "outputs": [
      {
       "output_type": "stream",
       "stream": "stdout",
       "text": [
        "[[ 0.04  0.13  0.29  0.5   0.76  0.    0.  ]\n",
        " [ 0.    0.05  0.18  0.38  0.61  1.17  0.  ]\n",
        " [ 0.    0.    0.08  0.26  0.46  0.97  1.77]\n",
        " [ 0.    0.    0.    0.1   0.3   0.73  1.53]\n",
        " [ 0.    0.    0.    0.    0.1   0.43  1.16]\n",
        " [ 0.    0.    0.    0.    0.    0.23  0.86]\n",
        " [ 0.    0.    0.    0.    0.    0.    0.4 ]]\n"
       ]
      }
     ],
     "prompt_number": 44
    },
    {
     "cell_type": "code",
     "collapsed": false,
     "input": [
      "s = 5\n",
      "for i in xrange(nd-s):\n",
      "    A[i,i+s] = np.sum(freq[i:i+s+1]) + min(A[i+1,i+s],A[i,i]+A[i+2,i+s],A[i,i+1]+A[i+3,i+s],A[i,i+2]+A[i+4,i+s], A[i,i+3]+A[i+5, i+s], A[i,i+4])\n",
      "print A"
     ],
     "language": "python",
     "metadata": {},
     "outputs": [
      {
       "output_type": "stream",
       "stream": "stdout",
       "text": [
        "[[ 0.04  0.13  0.29  0.5   0.76  1.32  0.  ]\n",
        " [ 0.    0.05  0.18  0.38  0.61  1.17  1.97]\n",
        " [ 0.    0.    0.08  0.26  0.46  0.97  1.77]\n",
        " [ 0.    0.    0.    0.1   0.3   0.73  1.53]\n",
        " [ 0.    0.    0.    0.    0.1   0.43  1.16]\n",
        " [ 0.    0.    0.    0.    0.    0.23  0.86]\n",
        " [ 0.    0.    0.    0.    0.    0.    0.4 ]]\n"
       ]
      }
     ],
     "prompt_number": 45
    },
    {
     "cell_type": "code",
     "collapsed": false,
     "input": [
      "s = 6\n",
      "for i in xrange(nd-s):\n",
      "    A[i,i+s] = np.sum(freq[i:i+s+1]) + min(A[i+1,i+s],A[i,i]+A[i+2,i+s],A[i,i+1]+A[i+3,i+s],A[i,i+2]+A[i+4,i+s], A[i,i+3]+A[i+5, i+s], A[i,i+4]+A[i+6,i+s], A[i,i+5])\n",
      "print A"
     ],
     "language": "python",
     "metadata": {},
     "outputs": [
      {
       "output_type": "stream",
       "stream": "stdout",
       "text": [
        "[[ 0.04  0.13  0.29  0.5   0.76  1.32  2.16]\n",
        " [ 0.    0.05  0.18  0.38  0.61  1.17  1.97]\n",
        " [ 0.    0.    0.08  0.26  0.46  0.97  1.77]\n",
        " [ 0.    0.    0.    0.1   0.3   0.73  1.53]\n",
        " [ 0.    0.    0.    0.    0.1   0.43  1.16]\n",
        " [ 0.    0.    0.    0.    0.    0.23  0.86]\n",
        " [ 0.    0.    0.    0.    0.    0.    0.4 ]]\n"
       ]
      }
     ],
     "prompt_number": 46
    },
    {
     "cell_type": "code",
     "collapsed": false,
     "input": [],
     "language": "python",
     "metadata": {},
     "outputs": [],
     "prompt_number": 46
    },
    {
     "cell_type": "code",
     "collapsed": false,
     "input": [],
     "language": "python",
     "metadata": {},
     "outputs": [],
     "prompt_number": 46
    },
    {
     "cell_type": "code",
     "collapsed": false,
     "input": [],
     "language": "python",
     "metadata": {},
     "outputs": [],
     "prompt_number": 46
    },
    {
     "cell_type": "code",
     "collapsed": false,
     "input": [],
     "language": "python",
     "metadata": {},
     "outputs": []
    }
   ],
   "metadata": {}
  }
 ]
}