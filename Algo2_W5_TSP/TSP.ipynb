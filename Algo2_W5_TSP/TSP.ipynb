{
 "metadata": {
  "name": "TSP"
 },
 "nbformat": 3,
 "nbformat_minor": 0,
 "worksheets": [
  {
   "cells": [
    {
     "cell_type": "code",
     "collapsed": false,
     "input": [
      "import numpy as np\n",
      "import matplotlib.pyplot as plt\n",
      "a = np.loadtxt('tsp.txt',skiprows=1)"
     ],
     "language": "python",
     "metadata": {},
     "outputs": [],
     "prompt_number": 26
    },
    {
     "cell_type": "code",
     "collapsed": false,
     "input": [
      "plt.scatter(a[0:,0],a[0:,1])\n",
      "plt.show()"
     ],
     "language": "python",
     "metadata": {},
     "outputs": [
      {
       "output_type": "display_data",
       "png": "[encoded data removed]"
      }
     ],
     "prompt_number": 27
    },
    {
     "cell_type": "code",
     "collapsed": false,
     "input": [
      "nn=25\n",
      "data = np.zeros([nn,2])\n",
      "data[0:,0]= a[0:,0]-20000\n",
      "data[0:,1] = a[0:,1]- 9000"
     ],
     "language": "python",
     "metadata": {},
     "outputs": [],
     "prompt_number": 7
    },
    {
     "cell_type": "code",
     "collapsed": false,
     "input": [
      "plt.scatter(data[0:,0],data[0:,1])\n",
      "plt.show()"
     ],
     "language": "python",
     "metadata": {},
     "outputs": [
      {
       "output_type": "display_data",
       "png": "[encoded data removed]"
      }
     ],
     "prompt_number": 8
    },
    {
     "cell_type": "code",
     "collapsed": false,
     "input": [
      "# sort it by x\n",
      "data=data[data[0:,0].argsort()]\n",
      "data[0:,0]"
     ],
     "language": "python",
     "metadata": {},
     "outputs": [
      {
       "output_type": "pyout",
       "prompt_number": 20,
       "text": [
        "array([  833.3333,   900.    ,  1300.    ,  1600.    ,  1600.    ,\n",
        "        1600.    ,  2183.3333,  2583.3333,  2683.3333,  3616.6667,\n",
        "        3700.    ,  3883.3333,  4166.6667,  5149.1667,  6133.3333,\n",
        "        6150.    ,  6283.3333,  6433.3333,  6550.    ,  6733.3333,\n",
        "        7026.1111,  7096.1111,  7153.6111,  7166.6667,  7233.3333])"
       ]
      }
     ],
     "prompt_number": 20
    },
    {
     "cell_type": "code",
     "collapsed": false,
     "input": [
      "# group the points into two groups to speed up the calculation\n",
      "data1=data[0:13,0:]  # 13 elements\n",
      "data2=data[11:,0:]  # 14 elemets both include points 3883 and 4166\n",
      "# clustering algorithm needed if want to apply to other dataset"
     ],
     "language": "python",
     "metadata": {},
     "outputs": [],
     "prompt_number": 23
    },
    {
     "cell_type": "code",
     "collapsed": false,
     "input": [
      "# we need to define a function to calculate TSP for star, mid, points in between\n",
      "# calculate an array to store the distance\n",
      "# I should really build a function for that\n",
      "\n",
      "#dist = np.zeros([nn,nn])\n",
      "\n",
      "#for i in range(0,nn):\n",
      "#    for j in range(0,nn):\n",
      "##        if i == j:\n",
      "#            dist[i,j] = 0.\n",
      "#        else:\n",
      "#            dist[i,j]=((data[i,0]-data[j,0])**2. + (data[i,1]-data[j,1])**2.)**0.5 \n",
      "            \n",
      "#dist\n",
      "\n",
      "n1=13\n",
      "dist1 = np.zeros([n1,n1])\n",
      "\n",
      "for i in range(0,n1):\n",
      "    for j in range(0,n1):\n",
      "        if i == j:\n",
      "            dist1[i,j] = 0.\n",
      "        else:\n",
      "            dist1[i,j]=((data1[i,0]-data1[j,0])**2. + (data1[i,1]-data1[j,1])**2.)**0.5 \n",
      "            \n",
      "            \n",
      "n2=13\n",
      "dist2 = np.zeros([n2,n2])\n",
      "\n",
      "for i in range(0,n2):\n",
      "    for j in range(0,n2):\n",
      "        if i == j:\n",
      "            dist2[i,j] = 0.\n",
      "        else:\n",
      "            dist2[i,j]=((data2[i,0]-data2[j,0])**2. + (data2[i,1]-data2[j,1])**2.)**0.5 \n",
      "            \n",
      "          \n",
      "     "
     ],
     "language": "python",
     "metadata": {},
     "outputs": [],
     "prompt_number": 28
    },
    {
     "cell_type": "code",
     "collapsed": false,
     "input": [
      "# let's order the elements from 0 - 12 \n",
      "# store the A as a 2^12 * 12 2D array (or shall we just do 2^13 * 13). \n",
      "# we look for result where 11 is the starting point, 12 is the ending point\n",
      "# since 2^12= 4096, total will be within 4096\n"
     ],
     "language": "python",
     "metadata": {},
     "outputs": [],
     "prompt_number": 14
    },
    {
     "cell_type": "code",
     "collapsed": false,
     "input": [
      "2**12"
     ],
     "language": "python",
     "metadata": {},
     "outputs": [
      {
       "output_type": "pyout",
       "prompt_number": 32,
       "text": [
        "4096"
       ]
      }
     ],
     "prompt_number": 32
    },
    {
     "cell_type": "code",
     "collapsed": false,
     "input": [],
     "language": "python",
     "metadata": {},
     "outputs": []
    }
   ],
   "metadata": {}
  }
 ]
}